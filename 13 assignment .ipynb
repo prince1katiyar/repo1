{
 "cells": [
  {
   "cell_type": "code",
   "execution_count": null,
   "id": "56ae6ea0-7ddc-4b44-8bde-e8724c63168c",
   "metadata": {},
   "outputs": [],
   "source": [
    "1. What advantages do Excel spreadsheets have over CSV spreadsheets?"
   ]
  },
  {
   "cell_type": "code",
   "execution_count": null,
   "id": "2b6ba7e8-0c50-4aad-930a-7f6e3eff595d",
   "metadata": {},
   "outputs": [],
   "source": [
    "these things you can do only in excel not in csv are -\n",
    "\n",
    "Don’t have types for their values—everything is a string\n",
    "Don’t have settings for font size or color\n",
    "Don’t have multiple worksheets\n",
    "Can’t specify cell widths and heights\n",
    "Can’t have merged cells\n",
    "Can’t have images or charts embedded in them"
   ]
  },
  {
   "cell_type": "code",
   "execution_count": null,
   "id": "f7cad7e8-b745-41e0-b0ba-270b184e1569",
   "metadata": {},
   "outputs": [],
   "source": [
    "2.What do you pass to csv.reader() and csv.writer() to create reader and writer objects?"
   ]
  },
  {
   "cell_type": "code",
   "execution_count": 16,
   "id": "79713e1a-4cd2-4164-af00-f53ca0afebba",
   "metadata": {},
   "outputs": [],
   "source": [
    "import csv\n",
    "fields = ['name ','class','department','sub']\n",
    "\n",
    "\n",
    "rows = [['prince','katiart','cs','math'],\n",
    "        ['prince','katiart','cs','math'],\n",
    "        ['prince','katiart','cs','math'],\n",
    "        ['prince','katiart','cs','math']]\n",
    "\n",
    "with open(\"iversity_records.csv\", 'w') as csvfile:\n",
    "    csvwriter=csv.writer(csvfile)        # writer object \n",
    "    csvwriter.writerow(fields) \n",
    "    csvwriter.writerows(rows)\n",
    "    "
   ]
  },
  {
   "cell_type": "code",
   "execution_count": 27,
   "id": "6e965823-ed90-4512-a958-c51513aeecf9",
   "metadata": {},
   "outputs": [
    {
     "name": "stdout",
     "output_type": "stream",
     "text": [
      "Row #5 ['name ', 'class', 'department', 'sub']\n",
      "Row #5 ['prince', 'katiart', 'cs', 'math']\n",
      "Row #5 ['prince', 'katiart', 'cs', 'math']\n",
      "Row #5 ['prince', 'katiart', 'cs', 'math']\n",
      "Row #5 ['prince', 'katiart', 'cs', 'math']\n"
     ]
    }
   ],
   "source": [
    "import csv\n",
    "fields = ['name ','class','department','sub']\n",
    "\n",
    "\n",
    "rows = [['prince','katiart','cs','math'],\n",
    "        ['prince','katiart','cs','math'],\n",
    "        ['prince','katiart','cs','math'],\n",
    "        ['prince','katiart','cs','math']]\n",
    "\n",
    "example = open(\"iversity_records.csv\") \n",
    "exampledata = csv.reader(example)     # reader object \n",
    "exampledata1 = list(exampledata)\n",
    "for row in p:\n",
    "        print('Row #' + str(exampledata.line_num) + ' ' + str(row))\n",
    "\n"
   ]
  },
  {
   "cell_type": "code",
   "execution_count": null,
   "id": "cec7a478-3f5c-42c1-898f-b058c9593319",
   "metadata": {},
   "outputs": [],
   "source": [
    "3. What modes do File objects for reader and writer objects need to be opened in?\n",
    "\n",
    "File objects need to be opened in read-binary ('rb') for reader objects and write-binary ('wb') for writer objects."
   ]
  },
  {
   "cell_type": "code",
   "execution_count": null,
   "id": "a5809a0e-fcbf-4bc4-9153-f15c2d2d90a8",
   "metadata": {},
   "outputs": [],
   "source": [
    "4. What method takes a list argument and writes it to a CSV file?\n",
    "\n",
    "\n",
    "writerow() method is used to take list argument in write nto csv file.\n"
   ]
  },
  {
   "cell_type": "code",
   "execution_count": null,
   "id": "eff21946-287a-4b89-a1ab-6929d26ffd01",
   "metadata": {},
   "outputs": [],
   "source": [
    "5. What do the keyword arguments delimiter and line terminator do?\n",
    "\n",
    "The delimiter is the character that appears between cells on a row. By default, the delimiter for a CSV file is a comma\n",
    "The line terminator is the character that comes at the end of a row,the character between rows to two newlines. \n",
    "can be chage by the line terminater lineterminator='\\n\\n'\n"
   ]
  },
  {
   "cell_type": "code",
   "execution_count": null,
   "id": "115e7687-b601-46af-9f78-c0b6d62e56c0",
   "metadata": {},
   "outputs": [],
   "source": [
    "6. What function takes a string of JSON data and returns a Python data structure?\n",
    "\n",
    "\n",
    "\n"
   ]
  },
  {
   "cell_type": "code",
   "execution_count": 30,
   "id": "fff204c5-ec66-4ab3-baa1-6fc421b260cb",
   "metadata": {},
   "outputs": [
    {
     "name": "stdout",
     "output_type": "stream",
     "text": [
      "{'name': 'sathiyajith', 'rollno': 56, 'cgpa': 8.6, 'phonenumber': '9976770500'}\n",
      "<class 'dict'>\n"
     ]
    }
   ],
   "source": [
    "import json\n",
    "\n",
    "with open('sample.json', 'r') as openfile:\n",
    "\n",
    "\t\n",
    "\tjson_object = json.load(openfile)\n",
    "\n",
    "print(json_object)\n",
    "print(type(json_object))"
   ]
  },
  {
   "cell_type": "code",
   "execution_count": 16,
   "id": "4fe001df-1663-4502-b5e7-6d1bd2323a22",
   "metadata": {},
   "outputs": [],
   "source": [
    "\n",
    "import json\n",
    " \n",
    "dictionary = {\n",
    "    \"name\": \"sathiyajith\",\n",
    "    \"rollno\": 56,\n",
    "    \"cgpa\": 8.6,\n",
    "    \"phonenumber\": \"9976770500\"\n",
    "}\n",
    " \n",
    "\n",
    "json_object = json.dumps(dictionary, indent=4)\n",
    " \n",
    "\n",
    "with open(\"sample.json\", \"w\") as outfile:\n",
    "    outfile.write(json_object)"
   ]
  },
  {
   "cell_type": "code",
   "execution_count": 28,
   "id": "c40bd118-dd29-4422-89da-f55bdca91634",
   "metadata": {},
   "outputs": [
    {
     "name": "stdout",
     "output_type": "stream",
     "text": [
      "{'name': 'sathiyajith', 'rollno': 56, 'cgpa': 8.6, 'phonenumber': '9976770500'}\n",
      "<class 'dict'>\n"
     ]
    }
   ],
   "source": [
    "import json\n",
    "\n",
    "with open('sample.json', 'r') as openfile:\n",
    "\n",
    "\t\n",
    "\tjson_object = json.load(openfile)\n",
    "\n",
    "print(json_object)\n",
    "print(type(json_object))\n"
   ]
  },
  {
   "cell_type": "code",
   "execution_count": null,
   "id": "1ebbac66-1905-4993-b9e7-d678c8a0a621",
   "metadata": {},
   "outputs": [],
   "source": []
  }
 ],
 "metadata": {
  "kernelspec": {
   "display_name": "Python 3 (ipykernel)",
   "language": "python",
   "name": "python3"
  },
  "language_info": {
   "codemirror_mode": {
    "name": "ipython",
    "version": 3
   },
   "file_extension": ".py",
   "mimetype": "text/x-python",
   "name": "python",
   "nbconvert_exporter": "python",
   "pygments_lexer": "ipython3",
   "version": "3.10.6"
  }
 },
 "nbformat": 4,
 "nbformat_minor": 5
}
